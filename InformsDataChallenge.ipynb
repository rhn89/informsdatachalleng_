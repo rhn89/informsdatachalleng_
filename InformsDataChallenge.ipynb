{
 "cells": [
  {
   "cell_type": "code",
   "execution_count": 3,
   "metadata": {},
   "outputs": [],
   "source": [
    "import pandas as pd\n",
    "import numpy  as np"
   ]
  },
  {
   "cell_type": "markdown",
   "metadata": {},
   "source": [
    "##Read the data"
   ]
  },
  {
   "cell_type": "code",
   "execution_count": 10,
   "metadata": {},
   "outputs": [],
   "source": [
    "NonDodSeparation =pd.read_csv('2014-2016////Non-DOD////Separations Non_DoD FY2015Q4.txt',\n",
    "                sep='|', index_col=False,\n",
    "                 names=['Family Name','Given Name','Effective Date','Agency','SubAgency','AccSep','State','Age Range','YSD','Education Level'\n",
    ",'Grade','LOS','Occupation','Occupational Category','Adjusted Basic Pay','TOA','Work Schedule','NSFTP Indicator'])\n"
   ]
  },
  {
   "cell_type": "markdown",
   "metadata": {},
   "source": [
    "Data Overview"
   ]
  },
  {
   "cell_type": "code",
   "execution_count": 26,
   "metadata": {},
   "outputs": [
    {
     "data": {
      "text/html": [
       "<div>\n",
       "<style>\n",
       "    .dataframe thead tr:only-child th {\n",
       "        text-align: right;\n",
       "    }\n",
       "\n",
       "    .dataframe thead th {\n",
       "        text-align: left;\n",
       "    }\n",
       "\n",
       "    .dataframe tbody tr th {\n",
       "        vertical-align: top;\n",
       "    }\n",
       "</style>\n",
       "<table border=\"1\" class=\"dataframe\">\n",
       "  <thead>\n",
       "    <tr style=\"text-align: right;\">\n",
       "      <th></th>\n",
       "      <th>Family Name</th>\n",
       "      <th>Given Name</th>\n",
       "      <th>Effective Date</th>\n",
       "      <th>Agency</th>\n",
       "      <th>SubAgency</th>\n",
       "      <th>AccSep</th>\n",
       "      <th>State</th>\n",
       "      <th>Age Range</th>\n",
       "      <th>YSD</th>\n",
       "      <th>Education Level</th>\n",
       "      <th>Grade</th>\n",
       "      <th>LOS</th>\n",
       "      <th>Occupation</th>\n",
       "      <th>Occupational Category</th>\n",
       "      <th>Adjusted Basic Pay</th>\n",
       "      <th>TOA</th>\n",
       "      <th>Work Schedule</th>\n",
       "      <th>NSFTP Indicator</th>\n",
       "    </tr>\n",
       "  </thead>\n",
       "  <tbody>\n",
       "    <tr>\n",
       "      <th>0</th>\n",
       "      <td>TANIGUCHI</td>\n",
       "      <td>ALINE</td>\n",
       "      <td>20150828</td>\n",
       "      <td>VA-DEPARTMENT OF VETERANS AFFAIRS</td>\n",
       "      <td>VATA-VETERANS HEALTH ADMINISTRATION</td>\n",
       "      <td>SD</td>\n",
       "      <td>37</td>\n",
       "      <td>65 or more</td>\n",
       "      <td>15 - 19 years</td>\n",
       "      <td>17</td>\n",
       "      <td>AD</td>\n",
       "      <td>03</td>\n",
       "      <td>30 - 34 years</td>\n",
       "      <td>0610-NURSE</td>\n",
       "      <td>P</td>\n",
       "      <td>127388.00</td>\n",
       "      <td>48</td>\n",
       "      <td>F</td>\n",
       "    </tr>\n",
       "    <tr>\n",
       "      <th>1</th>\n",
       "      <td>KEEN</td>\n",
       "      <td>WAYNE</td>\n",
       "      <td>20150930</td>\n",
       "      <td>VA-DEPARTMENT OF VETERANS AFFAIRS</td>\n",
       "      <td>VATA-VETERANS HEALTH ADMINISTRATION</td>\n",
       "      <td>SD</td>\n",
       "      <td>06</td>\n",
       "      <td>65 or more</td>\n",
       "      <td>30 - 34 years</td>\n",
       "      <td>17</td>\n",
       "      <td>GS</td>\n",
       "      <td>13</td>\n",
       "      <td>20 - 24 years</td>\n",
       "      <td>1102-CONTRACTING</td>\n",
       "      <td>P</td>\n",
       "      <td>114665.00</td>\n",
       "      <td>38</td>\n",
       "      <td>F</td>\n",
       "    </tr>\n",
       "    <tr>\n",
       "      <th>2</th>\n",
       "      <td>RENNIE</td>\n",
       "      <td>DALE</td>\n",
       "      <td>20150930</td>\n",
       "      <td>IN-DEPARTMENT OF THE INTERIOR</td>\n",
       "      <td>IN05-BUREAU OF LAND MANAGEMENT</td>\n",
       "      <td>SD</td>\n",
       "      <td>41</td>\n",
       "      <td>65 or more</td>\n",
       "      <td>35 - 39 years</td>\n",
       "      <td>13</td>\n",
       "      <td>GS</td>\n",
       "      <td>09</td>\n",
       "      <td>10 - 14 years</td>\n",
       "      <td>2210-INFORMATION TECHNOLOGY MANAGEMENT</td>\n",
       "      <td>A</td>\n",
       "      <td>67977.00</td>\n",
       "      <td>10</td>\n",
       "      <td>F</td>\n",
       "    </tr>\n",
       "    <tr>\n",
       "      <th>3</th>\n",
       "      <td>DANIELS</td>\n",
       "      <td>LEANNE</td>\n",
       "      <td>20150930</td>\n",
       "      <td>VA-DEPARTMENT OF VETERANS AFFAIRS</td>\n",
       "      <td>VATA-VETERANS HEALTH ADMINISTRATION</td>\n",
       "      <td>SD</td>\n",
       "      <td>33</td>\n",
       "      <td>55-59</td>\n",
       "      <td>25 - 29 years</td>\n",
       "      <td>06</td>\n",
       "      <td>GS</td>\n",
       "      <td>12</td>\n",
       "      <td>35 or more</td>\n",
       "      <td>1102-CONTRACTING</td>\n",
       "      <td>P</td>\n",
       "      <td>92085.00</td>\n",
       "      <td>10</td>\n",
       "      <td>F</td>\n",
       "    </tr>\n",
       "    <tr>\n",
       "      <th>4</th>\n",
       "      <td>CHEVALIER</td>\n",
       "      <td>RAYMOND</td>\n",
       "      <td>20150930</td>\n",
       "      <td>HS-DEPARTMENT OF HOMELAND SECURITY</td>\n",
       "      <td>HSCB-FEDERAL EMERGENCY MANAGEMENT AGENCY</td>\n",
       "      <td>SD</td>\n",
       "      <td>24</td>\n",
       "      <td>60-64</td>\n",
       "      <td>20 - 24 years</td>\n",
       "      <td>13</td>\n",
       "      <td>GS</td>\n",
       "      <td>14</td>\n",
       "      <td>35 or more</td>\n",
       "      <td>1712-TRAINING INSTRUCTION</td>\n",
       "      <td>A</td>\n",
       "      <td>128790.00</td>\n",
       "      <td>10</td>\n",
       "      <td>F</td>\n",
       "    </tr>\n",
       "  </tbody>\n",
       "</table>\n",
       "</div>"
      ],
      "text/plain": [
       "  Family Name Given Name  Effective Date                              Agency  \\\n",
       "0   TANIGUCHI      ALINE        20150828   VA-DEPARTMENT OF VETERANS AFFAIRS   \n",
       "1        KEEN      WAYNE        20150930   VA-DEPARTMENT OF VETERANS AFFAIRS   \n",
       "2      RENNIE       DALE        20150930       IN-DEPARTMENT OF THE INTERIOR   \n",
       "3     DANIELS     LEANNE        20150930   VA-DEPARTMENT OF VETERANS AFFAIRS   \n",
       "4   CHEVALIER    RAYMOND        20150930  HS-DEPARTMENT OF HOMELAND SECURITY   \n",
       "\n",
       "                                  SubAgency AccSep State   Age Range  \\\n",
       "0       VATA-VETERANS HEALTH ADMINISTRATION     SD    37  65 or more   \n",
       "1       VATA-VETERANS HEALTH ADMINISTRATION     SD    06  65 or more   \n",
       "2            IN05-BUREAU OF LAND MANAGEMENT     SD    41  65 or more   \n",
       "3       VATA-VETERANS HEALTH ADMINISTRATION     SD    33       55-59   \n",
       "4  HSCB-FEDERAL EMERGENCY MANAGEMENT AGENCY     SD    24       60-64   \n",
       "\n",
       "             YSD Education Level Grade LOS     Occupation  \\\n",
       "0  15 - 19 years              17    AD  03  30 - 34 years   \n",
       "1  30 - 34 years              17    GS  13  20 - 24 years   \n",
       "2  35 - 39 years              13    GS  09  10 - 14 years   \n",
       "3  25 - 29 years              06    GS  12     35 or more   \n",
       "4  20 - 24 years              13    GS  14     35 or more   \n",
       "\n",
       "                    Occupational Category Adjusted Basic Pay        TOA  \\\n",
       "0                              0610-NURSE                  P  127388.00   \n",
       "1                        1102-CONTRACTING                  P  114665.00   \n",
       "2  2210-INFORMATION TECHNOLOGY MANAGEMENT                  A   67977.00   \n",
       "3                        1102-CONTRACTING                  P   92085.00   \n",
       "4               1712-TRAINING INSTRUCTION                  A  128790.00   \n",
       "\n",
       "   Work Schedule NSFTP Indicator  \n",
       "0             48               F  \n",
       "1             38               F  \n",
       "2             10               F  \n",
       "3             10               F  \n",
       "4             10               F  "
      ]
     },
     "execution_count": 26,
     "metadata": {},
     "output_type": "execute_result"
    }
   ],
   "source": [
    "NonDodSeparation.head()"
   ]
  },
  {
   "cell_type": "markdown",
   "metadata": {},
   "source": [
    "Print dataframe information"
   ]
  },
  {
   "cell_type": "code",
   "execution_count": 13,
   "metadata": {},
   "outputs": [
    {
     "name": "stdout",
     "output_type": "stream",
     "text": [
      "<class 'pandas.core.frame.DataFrame'>\n",
      "RangeIndex: 40477 entries, 0 to 40476\n",
      "Data columns (total 18 columns):\n",
      "Family Name              40477 non-null object\n",
      "Given Name               40477 non-null object\n",
      "Effective Date           40477 non-null int64\n",
      "Agency                   40477 non-null object\n",
      "SubAgency                40477 non-null object\n",
      "AccSep                   40477 non-null object\n",
      "State                    40477 non-null object\n",
      "Age Range                40477 non-null object\n",
      "YSD                      40477 non-null object\n",
      "Education Level          40477 non-null object\n",
      "Grade                    40380 non-null object\n",
      "LOS                      40477 non-null object\n",
      "Occupation               40477 non-null object\n",
      "Occupational Category    40477 non-null object\n",
      "Adjusted Basic Pay       40477 non-null object\n",
      "TOA                      40477 non-null object\n",
      "Work Schedule            40477 non-null int64\n",
      "NSFTP Indicator          40477 non-null object\n",
      "dtypes: int64(2), object(16)\n",
      "memory usage: 5.6+ MB\n"
     ]
    }
   ],
   "source": [
    "NonDodSeparation.info()"
   ]
  },
  {
   "cell_type": "markdown",
   "metadata": {},
   "source": [
    "Number of rows"
   ]
  },
  {
   "cell_type": "code",
   "execution_count": 14,
   "metadata": {},
   "outputs": [
    {
     "data": {
      "text/plain": [
       "40477"
      ]
     },
     "execution_count": 14,
     "metadata": {},
     "output_type": "execute_result"
    }
   ],
   "source": [
    "NonDodSeparation.shape[0]"
   ]
  },
  {
   "cell_type": "markdown",
   "metadata": {},
   "source": [
    "Number of columns"
   ]
  },
  {
   "cell_type": "code",
   "execution_count": 15,
   "metadata": {},
   "outputs": [
    {
     "data": {
      "text/plain": [
       "18"
      ]
     },
     "execution_count": 15,
     "metadata": {},
     "output_type": "execute_result"
    }
   ],
   "source": [
    "NonDodSeparation.shape[1]"
   ]
  },
  {
   "cell_type": "markdown",
   "metadata": {},
   "source": [
    "Column names"
   ]
  },
  {
   "cell_type": "code",
   "execution_count": 16,
   "metadata": {},
   "outputs": [
    {
     "data": {
      "text/plain": [
       "Index([u'Family Name', u'Given Name', u'Effective Date', u'Agency',\n",
       "       u'SubAgency', u'AccSep', u'State', u'Age Range', u'YSD',\n",
       "       u'Education Level', u'Grade', u'LOS', u'Occupation',\n",
       "       u'Occupational Category', u'Adjusted Basic Pay', u'TOA',\n",
       "       u'Work Schedule', u'NSFTP Indicator'],\n",
       "      dtype='object')"
      ]
     },
     "execution_count": 16,
     "metadata": {},
     "output_type": "execute_result"
    }
   ],
   "source": [
    "NonDodSeparation.columns"
   ]
  },
  {
   "cell_type": "code",
   "execution_count": null,
   "metadata": {
    "collapsed": true
   },
   "outputs": [],
   "source": [
    "How is the data indexed?"
   ]
  },
  {
   "cell_type": "code",
   "execution_count": 18,
   "metadata": {},
   "outputs": [
    {
     "data": {
      "text/plain": [
       "RangeIndex(start=0, stop=40477, step=1)"
      ]
     },
     "execution_count": 18,
     "metadata": {},
     "output_type": "execute_result"
    }
   ],
   "source": [
    "NonDodSeparation.index"
   ]
  },
  {
   "cell_type": "markdown",
   "metadata": {},
   "source": [
    "What is the most common education level?"
   ]
  },
  {
   "cell_type": "code",
   "execution_count": 23,
   "metadata": {},
   "outputs": [
    {
     "data": {
      "text/plain": [
       "04    10003\n",
       "13     8575\n",
       "17     4206\n",
       "       2229\n",
       "10     1909\n",
       "Name: Education Level, dtype: int64"
      ]
     },
     "execution_count": 23,
     "metadata": {},
     "output_type": "execute_result"
    }
   ],
   "source": [
    "NonDodSeparation['Education Level'].value_counts().head()"
   ]
  },
  {
   "cell_type": "markdown",
   "metadata": {},
   "source": [
    "Most Common Occupation?"
   ]
  },
  {
   "cell_type": "code",
   "execution_count": 25,
   "metadata": {},
   "outputs": [
    {
     "data": {
      "text/plain": [
       "0303-MISCELLANEOUS CLERK AND ASSISTANT    3687\n",
       "0462-FORESTRY TECHNICIAN                  2691\n",
       "1802-COMPLIANCE INSPECTION AND SUPPORT    1529\n",
       "0610-NURSE                                1495\n",
       "0404-BIOLOGICAL SCIENCE TECHNICIAN        1444\n",
       "Name: Occupational Category, dtype: int64"
      ]
     },
     "execution_count": 25,
     "metadata": {},
     "output_type": "execute_result"
    }
   ],
   "source": [
    "NonDodSeparation['Occupational Category'].value_counts().head()"
   ]
  },
  {
   "cell_type": "markdown",
   "metadata": {},
   "source": [
    "Most common service duration?"
   ]
  },
  {
   "cell_type": "code",
   "execution_count": 27,
   "metadata": {},
   "outputs": [
    {
     "data": {
      "text/plain": [
       "Less than 1 year    13057\n",
       "1 - 2 years          6359\n",
       "5 - 9 years          5842\n",
       "3 - 4 years          3633\n",
       "10 - 14 years        2881\n",
       "Name: Occupation, dtype: int64"
      ]
     },
     "execution_count": 27,
     "metadata": {},
     "output_type": "execute_result"
    }
   ],
   "source": [
    "NonDodSeparation['Occupation'].value_counts().head()"
   ]
  },
  {
   "cell_type": "markdown",
   "metadata": {},
   "source": [
    "Most Common Age Range"
   ]
  },
  {
   "cell_type": "code",
   "execution_count": 28,
   "metadata": {},
   "outputs": [
    {
     "data": {
      "text/plain": [
       "25-29    5347\n",
       "20-24    4700\n",
       "30-34    4684\n",
       "60-64    4604\n",
       "55-59    4191\n",
       "Name: Age Range, dtype: int64"
      ]
     },
     "execution_count": 28,
     "metadata": {},
     "output_type": "execute_result"
    }
   ],
   "source": [
    "NonDodSeparation['Age Range'].value_counts().head()"
   ]
  }
 ],
 "metadata": {
  "kernelspec": {
   "display_name": "Python 2",
   "language": "python",
   "name": "python2"
  },
  "language_info": {
   "codemirror_mode": {
    "name": "ipython",
    "version": 2
   },
   "file_extension": ".py",
   "mimetype": "text/x-python",
   "name": "python",
   "nbconvert_exporter": "python",
   "pygments_lexer": "ipython2",
   "version": "2.7.13"
  }
 },
 "nbformat": 4,
 "nbformat_minor": 2
}
